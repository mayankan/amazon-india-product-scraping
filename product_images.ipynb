{
 "cells": [
  {
   "cell_type": "code",
   "execution_count": 1,
   "metadata": {},
   "outputs": [],
   "source": [
    "#Load important Libraries\n",
    "import requests\n",
    "from bs4 import BeautifulSoup\n",
    "import os\n",
    "import pandas as pd\n",
    "import shutil # to save it locally"
   ]
  },
  {
   "cell_type": "code",
   "execution_count": 2,
   "metadata": {},
   "outputs": [],
   "source": [
    "HEADERS = ({'User-Agent':\n",
    "            'Mozilla/5.0 (Windows NT 6.1) AppleWebKit/537.36 (KHTML, like Gecko) Chrome/41.0.2228.0 Safari/537.36',\n",
    "            'Accept-Language': 'en-US, en;q=0.5','referer':'https://www.google.com/'})"
   ]
  },
  {
   "cell_type": "code",
   "execution_count": 3,
   "metadata": {},
   "outputs": [
    {
     "data": {
      "text/html": [
       "<div>\n",
       "<style scoped>\n",
       "    .dataframe tbody tr th:only-of-type {\n",
       "        vertical-align: middle;\n",
       "    }\n",
       "\n",
       "    .dataframe tbody tr th {\n",
       "        vertical-align: top;\n",
       "    }\n",
       "\n",
       "    .dataframe thead th {\n",
       "        text-align: right;\n",
       "    }\n",
       "</style>\n",
       "<table border=\"1\" class=\"dataframe\">\n",
       "  <thead>\n",
       "    <tr style=\"text-align: right;\">\n",
       "      <th></th>\n",
       "      <th>name</th>\n",
       "      <th>link</th>\n",
       "    </tr>\n",
       "  </thead>\n",
       "  <tbody>\n",
       "    <tr>\n",
       "      <th>0</th>\n",
       "      <td>['Kindle (10th Gen), 6\" Display with Built-in ...</td>\n",
       "      <td>https://amazon.in/Staging-Product-Not-Retail-S...</td>\n",
       "    </tr>\n",
       "    <tr>\n",
       "      <th>1</th>\n",
       "      <td>['Kindle Paperwhite (10th gen) - with Built-in...</td>\n",
       "      <td>https://amazon.in/All-New-Kindle-Paperwhite-10...</td>\n",
       "    </tr>\n",
       "    <tr>\n",
       "      <th>2</th>\n",
       "      <td>['Kindle (10th Gen), 6\" Display with Built-in ...</td>\n",
       "      <td>https://amazon.in/Staging-Product-Not-Retail-S...</td>\n",
       "    </tr>\n",
       "    <tr>\n",
       "      <th>3</th>\n",
       "      <td>['Kindle Paperwhite (10th gen) -with Built-in ...</td>\n",
       "      <td>https://amazon.in/All-New-Kindle-Paperwhite-10...</td>\n",
       "    </tr>\n",
       "    <tr>\n",
       "      <th>4</th>\n",
       "      <td>['All-New Kindle Oasis (10th Gen) - Now with a...</td>\n",
       "      <td>https://amazon.in/All-new-Kindle-Oasis/dp/B07L...</td>\n",
       "    </tr>\n",
       "  </tbody>\n",
       "</table>\n",
       "</div>"
      ],
      "text/plain": [
       "                                                name  \\\n",
       "0  ['Kindle (10th Gen), 6\" Display with Built-in ...   \n",
       "1  ['Kindle Paperwhite (10th gen) - with Built-in...   \n",
       "2  ['Kindle (10th Gen), 6\" Display with Built-in ...   \n",
       "3  ['Kindle Paperwhite (10th gen) -with Built-in ...   \n",
       "4  ['All-New Kindle Oasis (10th Gen) - Now with a...   \n",
       "\n",
       "                                                link  \n",
       "0  https://amazon.in/Staging-Product-Not-Retail-S...  \n",
       "1  https://amazon.in/All-New-Kindle-Paperwhite-10...  \n",
       "2  https://amazon.in/Staging-Product-Not-Retail-S...  \n",
       "3  https://amazon.in/All-New-Kindle-Paperwhite-10...  \n",
       "4  https://amazon.in/All-new-Kindle-Oasis/dp/B07L...  "
      ]
     },
     "execution_count": 3,
     "metadata": {},
     "output_type": "execute_result"
    }
   ],
   "source": [
    "data = pd.read_csv(\"products_data.csv\")\n",
    "data.head()"
   ]
  },
  {
   "cell_type": "code",
   "execution_count": 19,
   "metadata": {},
   "outputs": [
    {
     "name": "stdout",
     "output_type": "stream",
     "text": [
      "7 Images Downloaded Successfully\n",
      "7 Images Downloaded Successfully\n",
      "7 Images Downloaded Successfully\n",
      "7 Images Downloaded Successfully\n",
      "6 Images Downloaded Successfully\n"
     ]
    }
   ],
   "source": [
    "for i,j in data[0:5].iterrows():\n",
    "    count = 0\n",
    "    name = j['name']\n",
    "    link = j['link']\n",
    "    page = requests.get(link, headers=HEADERS)\n",
    "    soup = BeautifulSoup(page.content)\n",
    "    #Finding First Image URL using BeautifulSoup\n",
    "    firstImage = soup.find('img',id='landingImage')\n",
    "    firstImage = firstImage['data-a-dynamic-image'].split('\"')\n",
    "    firstImage = firstImage[1]\n",
    "    firstImage = firstImage.split('.')\n",
    "    #Finding All Span Elements containing image URLs using BeautifulSoup\n",
    "    images = soup.find_all('span',class_='a-button a-button-thumbnail a-button-toggle')\n",
    "    #List for Saving Image Src Links\n",
    "    imageLinks = [firstImage[0]+'.'+firstImage[1]+'.'+firstImage[2]+'.'+firstImage[4]]\n",
    "    for e in images:\n",
    "        f = e.find('img')\n",
    "        #Removing image Elements that don't include image\n",
    "        if f is not None:\n",
    "            #Splitting Image Sources to remove all images except jpg extension\n",
    "            b = f['src'].split('.')\n",
    "            #Removing image Elements with gif extension\n",
    "            if(b[-1]!='gif'):\n",
    "                #Appending final image URL to a list\n",
    "                imageLinks.append(b[0]+'.'+b[1]+'.'+b[2]+'.'+b[4])\n",
    "    os.mkdir(name)\n",
    "    for element in imageLinks:\n",
    "        filename=name+'/'+str(count+1)+'.jpg'\n",
    "        r = requests.get(element, stream = True, headers=HEADERS)\n",
    "        if r.status_code == 200:\n",
    "            # Set decode_content value to True, otherwise the downloaded image file's size will be zero.\n",
    "            r.raw.decode_content = True\n",
    "            # Open a local file with wb ( write binary ) permission.\n",
    "            with open(filename,'wb') as f:\n",
    "                shutil.copyfileobj(r.raw, f)\n",
    "            count=count+1\n",
    "    print(str(count)+' Images Downloaded Successfully')"
   ]
  }
 ],
 "metadata": {
  "interpreter": {
   "hash": "aee8b7b246df8f9039afb4144a1f6fd8d2ca17a180786b69acc140d282b71a49"
  },
  "kernelspec": {
   "display_name": "Python 3.8.3 64-bit",
   "name": "python3"
  },
  "language_info": {
   "codemirror_mode": {
    "name": "ipython",
    "version": 3
   },
   "file_extension": ".py",
   "mimetype": "text/x-python",
   "name": "python",
   "nbconvert_exporter": "python",
   "pygments_lexer": "ipython3",
   "version": "3.8.3"
  },
  "orig_nbformat": 4
 },
 "nbformat": 4,
 "nbformat_minor": 2
}