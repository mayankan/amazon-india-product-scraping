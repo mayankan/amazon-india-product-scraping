{
 "cells": [
  {
   "cell_type": "code",
   "execution_count": 1,
   "metadata": {},
   "outputs": [],
   "source": [
    "# Loading important Libraries\n",
    "import requests\n",
    "from bs4 import BeautifulSoup\n",
    "import pandas as pd"
   ]
  },
  {
   "cell_type": "code",
   "execution_count": 2,
   "metadata": {},
   "outputs": [],
   "source": [
    "# Adding headers to scrap Amazon successfully\n",
    "HEADERS = ({'User-Agent': \n",
    "'Mozilla/5.0 (Windows NT 6.1) AppleWebKit/537.36 (KHTML, like Gecko) Chrome/41.0.2228.0 Safari/537.36',\n",
    " 'Accept-Language': 'en-US, en;q=0.5'})"
   ]
  },
  {
   "cell_type": "code",
   "execution_count": 3,
   "metadata": {},
   "outputs": [],
   "source": [
    "# Storing the search text\n",
    "searchText = \"kindle reader\""
   ]
  },
  {
   "cell_type": "code",
   "execution_count": 4,
   "metadata": {},
   "outputs": [
    {
     "data": {
      "text/plain": [
       "'https://www.amazon.in/s?k=kindle+reader'"
      ]
     },
     "execution_count": 4,
     "metadata": {},
     "output_type": "execute_result"
    }
   ],
   "source": [
    "# Creating an Amazon Search Link using the provided search text while converting the spaces to +\n",
    "searchLink=\"https://www.amazon.in/s?k=\"+searchText.split('|')[0].rstrip().replace(' ','+')\n",
    "searchLink"
   ]
  },
  {
   "cell_type": "code",
   "execution_count": 5,
   "metadata": {},
   "outputs": [],
   "source": [
    "# Scraping Amazon to get product names and links for the provided search text\n",
    "products = dict()\n",
    "page = requests.get(searchLink, headers=HEADERS)\n",
    "soup = BeautifulSoup(page.content)\n",
    "query = soup.findAll('a',class_='a-link-normal a-text-normal')\n",
    "for q in query:\n",
    "    if(q != None):\n",
    "        namequery = q.find('span')\n",
    "        products[str(namequery.contents)] = 'https://amazon.in'+q['href']"
   ]
  },
  {
   "cell_type": "code",
   "execution_count": 6,
   "metadata": {},
   "outputs": [],
   "source": [
    "products_data = pd.DataFrame.from_dict(products,orient='index',columns=['link'])"
   ]
  },
  {
   "cell_type": "code",
   "execution_count": 7,
   "metadata": {},
   "outputs": [],
   "source": [
    "products_data['name'] = products_data.index"
   ]
  },
  {
   "cell_type": "code",
   "execution_count": 8,
   "metadata": {},
   "outputs": [],
   "source": [
    "products_data.reset_index(inplace=True)"
   ]
  },
  {
   "cell_type": "code",
   "execution_count": 9,
   "metadata": {},
   "outputs": [],
   "source": [
    "products_data.drop('index',axis=1,inplace=True)"
   ]
  },
  {
   "cell_type": "code",
   "execution_count": 10,
   "metadata": {},
   "outputs": [
    {
     "data": {
      "text/html": [
       "<div>\n",
       "<style scoped>\n",
       "    .dataframe tbody tr th:only-of-type {\n",
       "        vertical-align: middle;\n",
       "    }\n",
       "\n",
       "    .dataframe tbody tr th {\n",
       "        vertical-align: top;\n",
       "    }\n",
       "\n",
       "    .dataframe thead th {\n",
       "        text-align: right;\n",
       "    }\n",
       "</style>\n",
       "<table border=\"1\" class=\"dataframe\">\n",
       "  <thead>\n",
       "    <tr style=\"text-align: right;\">\n",
       "      <th></th>\n",
       "      <th>name</th>\n",
       "      <th>link</th>\n",
       "    </tr>\n",
       "  </thead>\n",
       "  <tbody>\n",
       "    <tr>\n",
       "      <th>0</th>\n",
       "      <td>['Kindle (10th Gen), 6\" Display with Built-in ...</td>\n",
       "      <td>https://amazon.in/Staging-Product-Not-Retail-S...</td>\n",
       "    </tr>\n",
       "    <tr>\n",
       "      <th>1</th>\n",
       "      <td>['Kindle Paperwhite (10th gen) - with Built-in...</td>\n",
       "      <td>https://amazon.in/All-New-Kindle-Paperwhite-10...</td>\n",
       "    </tr>\n",
       "    <tr>\n",
       "      <th>2</th>\n",
       "      <td>['Kindle (10th Gen), 6\" Display with Built-in ...</td>\n",
       "      <td>https://amazon.in/Staging-Product-Not-Retail-S...</td>\n",
       "    </tr>\n",
       "    <tr>\n",
       "      <th>3</th>\n",
       "      <td>['Kindle Paperwhite (10th gen) -with Built-in ...</td>\n",
       "      <td>https://amazon.in/All-New-Kindle-Paperwhite-10...</td>\n",
       "    </tr>\n",
       "    <tr>\n",
       "      <th>4</th>\n",
       "      <td>['All-New Kindle Oasis (10th Gen) - Now with a...</td>\n",
       "      <td>https://amazon.in/All-new-Kindle-Oasis/dp/B07L...</td>\n",
       "    </tr>\n",
       "    <tr>\n",
       "      <th>5</th>\n",
       "      <td>['All-New Kindle Oasis (10th Gen) - Now with a...</td>\n",
       "      <td>https://amazon.in/All-new-Kindle-Oasis/dp/B07L...</td>\n",
       "    </tr>\n",
       "    <tr>\n",
       "      <th>6</th>\n",
       "      <td>['All-New Kindle Oasis (10th Gen) - Now with a...</td>\n",
       "      <td>https://amazon.in/All-new-Kindle-Oasis/dp/B07L...</td>\n",
       "    </tr>\n",
       "    <tr>\n",
       "      <th>7</th>\n",
       "      <td>['Kindle Paperwhite 3G (7th gen), 6\" High Reso...</td>\n",
       "      <td>https://amazon.in/Kindle-Paperwhite-Resolution...</td>\n",
       "    </tr>\n",
       "    <tr>\n",
       "      <th>8</th>\n",
       "      <td>['Kindle E-reader 8th generation!!']</td>\n",
       "      <td>https://amazon.in/Kindle-E-reader-8th-generati...</td>\n",
       "    </tr>\n",
       "    <tr>\n",
       "      <th>9</th>\n",
       "      <td>['Kindle Reader']</td>\n",
       "      <td>https://amazon.in/Kindle-Reader-Peter-Richards...</td>\n",
       "    </tr>\n",
       "    <tr>\n",
       "      <th>10</th>\n",
       "      <td>['Neoskin Kobo/Kindle Calm &amp; Carry on']</td>\n",
       "      <td>https://amazon.in/Neoskin-Kobo-Kindle-Calm-Car...</td>\n",
       "    </tr>\n",
       "    <tr>\n",
       "      <th>11</th>\n",
       "      <td>['Το Ἐνυπνιον. [Translated by Ch. A. Parmenide...</td>\n",
       "      <td>https://amazon.in/Translated-Parmenides-Origin...</td>\n",
       "    </tr>\n",
       "    <tr>\n",
       "      <th>12</th>\n",
       "      <td>[\"Magic Library: A Jacob's Ladder for Book Lov...</td>\n",
       "      <td>https://amazon.in/Magic-Library-Jacobs-Ladder-...</td>\n",
       "    </tr>\n",
       "    <tr>\n",
       "      <th>13</th>\n",
       "      <td>['Mind Your Manners']</td>\n",
       "      <td>https://amazon.in/Mind-Your-Manners-Heather-Br...</td>\n",
       "    </tr>\n",
       "    <tr>\n",
       "      <th>14</th>\n",
       "      <td>['Defective Detectives - 2: Nothing Is As It S...</td>\n",
       "      <td>https://amazon.in/Defective-Detectives-Nothing...</td>\n",
       "    </tr>\n",
       "    <tr>\n",
       "      <th>15</th>\n",
       "      <td>['Mighty Bright-Blk-Ultra-Lght (Untrathin)']</td>\n",
       "      <td>https://amazon.in/Ultrathin-Book-Light-Black-U...</td>\n",
       "    </tr>\n",
       "  </tbody>\n",
       "</table>\n",
       "</div>"
      ],
      "text/plain": [
       "                                                 name  \\\n",
       "0   ['Kindle (10th Gen), 6\" Display with Built-in ...   \n",
       "1   ['Kindle Paperwhite (10th gen) - with Built-in...   \n",
       "2   ['Kindle (10th Gen), 6\" Display with Built-in ...   \n",
       "3   ['Kindle Paperwhite (10th gen) -with Built-in ...   \n",
       "4   ['All-New Kindle Oasis (10th Gen) - Now with a...   \n",
       "5   ['All-New Kindle Oasis (10th Gen) - Now with a...   \n",
       "6   ['All-New Kindle Oasis (10th Gen) - Now with a...   \n",
       "7   ['Kindle Paperwhite 3G (7th gen), 6\" High Reso...   \n",
       "8                ['Kindle E-reader 8th generation!!']   \n",
       "9                                   ['Kindle Reader']   \n",
       "10            ['Neoskin Kobo/Kindle Calm & Carry on']   \n",
       "11  ['Το Ἐνυπνιον. [Translated by Ch. A. Parmenide...   \n",
       "12  [\"Magic Library: A Jacob's Ladder for Book Lov...   \n",
       "13                              ['Mind Your Manners']   \n",
       "14  ['Defective Detectives - 2: Nothing Is As It S...   \n",
       "15       ['Mighty Bright-Blk-Ultra-Lght (Untrathin)']   \n",
       "\n",
       "                                                 link  \n",
       "0   https://amazon.in/Staging-Product-Not-Retail-S...  \n",
       "1   https://amazon.in/All-New-Kindle-Paperwhite-10...  \n",
       "2   https://amazon.in/Staging-Product-Not-Retail-S...  \n",
       "3   https://amazon.in/All-New-Kindle-Paperwhite-10...  \n",
       "4   https://amazon.in/All-new-Kindle-Oasis/dp/B07L...  \n",
       "5   https://amazon.in/All-new-Kindle-Oasis/dp/B07L...  \n",
       "6   https://amazon.in/All-new-Kindle-Oasis/dp/B07L...  \n",
       "7   https://amazon.in/Kindle-Paperwhite-Resolution...  \n",
       "8   https://amazon.in/Kindle-E-reader-8th-generati...  \n",
       "9   https://amazon.in/Kindle-Reader-Peter-Richards...  \n",
       "10  https://amazon.in/Neoskin-Kobo-Kindle-Calm-Car...  \n",
       "11  https://amazon.in/Translated-Parmenides-Origin...  \n",
       "12  https://amazon.in/Magic-Library-Jacobs-Ladder-...  \n",
       "13  https://amazon.in/Mind-Your-Manners-Heather-Br...  \n",
       "14  https://amazon.in/Defective-Detectives-Nothing...  \n",
       "15  https://amazon.in/Ultrathin-Book-Light-Black-U...  "
      ]
     },
     "execution_count": 10,
     "metadata": {},
     "output_type": "execute_result"
    }
   ],
   "source": [
    "products_data = products_data[['name','link']]\n",
    "products_data"
   ]
  },
  {
   "cell_type": "code",
   "execution_count": 11,
   "metadata": {},
   "outputs": [],
   "source": [
    "products_data.to_csv('products_data.csv',index=False)"
   ]
  }
 ],
 "metadata": {
  "interpreter": {
   "hash": "aee8b7b246df8f9039afb4144a1f6fd8d2ca17a180786b69acc140d282b71a49"
  },
  "kernelspec": {
   "display_name": "Python 3.8.3 64-bit",
   "name": "python3"
  },
  "language_info": {
   "codemirror_mode": {
    "name": "ipython",
    "version": 3
   },
   "file_extension": ".py",
   "mimetype": "text/x-python",
   "name": "python",
   "nbconvert_exporter": "python",
   "pygments_lexer": "ipython3",
   "version": "3.8.3"
  },
  "orig_nbformat": 4
 },
 "nbformat": 4,
 "nbformat_minor": 2
}